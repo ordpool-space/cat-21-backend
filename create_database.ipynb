{
 "cells": [
  {
   "cell_type": "code",
   "execution_count": 4,
   "id": "4f80893d",
   "metadata": {},
   "outputs": [
    {
     "name": "stdout",
     "output_type": "stream",
     "text": [
      "Current database server time: 2024-05-12 17:03 UTC\n"
     ]
    }
   ],
   "source": [
    "import os\n",
    "import json\n",
    "import psycopg2\n",
    "\n",
    "from dotenv import load_dotenv\n",
    "from urllib.parse import quote_plus\n",
    "from dune_client.client import DuneClient\n",
    "\n",
    "load_dotenv()\n",
    "dune = DuneClient.from_env()\n",
    "\n",
    "# Define the additional option with URL encoding\n",
    "encoded_option = quote_plus(f\"endpoint={os.getenv('DATABASE_ENDPOINT')}\")\n",
    "\n",
    "# Connect using psycopg2 with connection string\n",
    "connection_string = f\"postgresql://{os.getenv('DATABASE_USER')}:{os.getenv('DATABASE_PASSWORD')}@{os.getenv('DATABASE_HOST')}:{os.getenv('DATABASE_PORT')}/{os.getenv('DATABASE_NAME')}?options={encoded_option}\"\n",
    "conn = psycopg2.connect(connection_string)\n",
    "cur = conn.cursor()\n",
    "\n",
    "# Sample database operation: fetching the current date and time from the server\n",
    "cur.execute(\"SELECT NOW();\")\n",
    "current_time = cur.fetchone()\n",
    "print(f\"Current database server time: {current_time[0].strftime('%Y-%m-%d %H:%M')} UTC\")"
   ]
  },
  {
   "cell_type": "code",
   "execution_count": null,
   "id": "7a6ed4fa",
   "metadata": {},
   "outputs": [],
   "source": [
    "# This does NOT execute the query, only fetches most recent cached result\n",
    "query_result = dune.get_latest_result(3695328)"
   ]
  },
  {
   "cell_type": "code",
   "execution_count": null,
   "id": "1c8a837c",
   "metadata": {},
   "outputs": [],
   "source": [
    "res = query_result.get_rows()"
   ]
  },
  {
   "cell_type": "code",
   "execution_count": null,
   "id": "949e6c64",
   "metadata": {},
   "outputs": [],
   "source": [
    "len(res)"
   ]
  },
  {
   "cell_type": "code",
   "execution_count": 42,
   "id": "f2accb9e",
   "metadata": {},
   "outputs": [
    {
     "data": {
      "text/plain": [
       "{'block_height': 824205,\n",
       " 'block_time': '2024-01-03 21:04:46.000 UTC',\n",
       " 'cat_number': 0,\n",
       " 'fee': 0.00040834,\n",
       " 'id': '0x98316dcb21daaa221865208fe0323616ee6dd84e6020b78bc6908e914ac03892',\n",
       " 'input': [[0.00634426,\n",
       "   None,\n",
       "   824183,\n",
       "   '0x97b4ecfe7c015aa35f3a2e0299be09a0dc3d02c6dbcff31a23c80f806a19af9a',\n",
       "   11,\n",
       "   ['3PhEFGZSE4JhMa8JPoX5rf9gUZnsDwCcJt',\n",
       "    'OP_HASH160 f15d0dc87fc1cd6d2395870a7c6a6788854c03ec OP_EQUAL',\n",
       "    'addr(3PhEFGZSE4JhMa8JPoX5rf9gUZnsDwCcJt)#m2rmu9t3',\n",
       "    '0xa914f15d0dc87fc1cd6d2395870a7c6a6788854c03ec87',\n",
       "    'scripthash'],\n",
       "   ['0014d6128ca4880dc012f901129ee3491c2d1c343b26',\n",
       "    '0x160014d6128ca4880dc012f901129ee3491c2d1c343b26'],\n",
       "   4294967293,\n",
       "   ['0x3044022065051b1b6479dd36eb921894b3173a0bc3768d75bfadbd473839147580f75d8302201d0a1952da156f37f05e3b2898c52fdd18fd133a47b2d4624098510597626a7501',\n",
       "    '0x029ad68868c3175c8e7d62e831d5dc3830837352f5f3be8bd3e1a997c78e4cbd70']]],\n",
       " 'input_count': 1,\n",
       " 'lock_time': 21,\n",
       " 'output': [[0,\n",
       "   ['bc1p85ra9kv6a48yvk4mq4hx08wxk6t32tdjw9ylahergexkymsc3uwsdrx6sh',\n",
       "    '1 3d07d2d99aed4e465abb056e679dc6b697152db27149fedf23464d626e188f1d',\n",
       "    'rawtr(3d07d2d99aed4e465abb056e679dc6b697152db27149fedf23464d626e188f1d)#lwghjjvj',\n",
       "    '0x51203d07d2d99aed4e465abb056e679dc6b697152db27149fedf23464d626e188f1d',\n",
       "    'witness_v1_taproot'],\n",
       "   5.46e-06],\n",
       "  [1,\n",
       "   ['3DPC3AqsW6eRS8J3bfwL3iS7zBSPyBYYEz',\n",
       "    'OP_HASH160 8042770d5c6df6139944e63a368228131f117c1a OP_EQUAL',\n",
       "    'addr(3DPC3AqsW6eRS8J3bfwL3iS7zBSPyBYYEz)#w4tm8uea',\n",
       "    '0xa9148042770d5c6df6139944e63a368228131f117c1a87',\n",
       "    'scripthash'],\n",
       "   0.00593046]],\n",
       " 'output_count': 2,\n",
       " 'virtual_size': 177}"
      ]
     },
     "execution_count": 42,
     "metadata": {},
     "output_type": "execute_result"
    }
   ],
   "source": [
    "res[-1]"
   ]
  },
  {
   "cell_type": "code",
   "execution_count": 62,
   "id": "d4233ca4",
   "metadata": {},
   "outputs": [],
   "source": [
    "# Create table\n",
    "cur.execute(\"DROP TABLE cats\")\n",
    "cur.execute(\"\"\"CREATE TABLE IF NOT EXISTS cats (\n",
    "  id UUID PRIMARY KEY DEFAULT gen_random_uuid(),\n",
    "  cat_number INT,\n",
    "  lock_time INT,\n",
    "  block_height INT,\n",
    "  minted_at TIMESTAMP WITH TIME ZONE,\n",
    "  minted_by VARCHAR(256),\n",
    "  feeRate FLOAT,\n",
    "  tx_hash VARCHAR(256),\n",
    "  tx_fee FLOAT,\n",
    "  tx_virtual_size INT,\n",
    "  tx_input_count INT,\n",
    "  tx_input JSONB,\n",
    "  tx_output_count INT,\n",
    "  tx_output JSONB\n",
    ");\n",
    "\"\"\")\n",
    "conn.commit()"
   ]
  },
  {
   "cell_type": "code",
   "execution_count": 38,
   "id": "6af43cf8",
   "metadata": {},
   "outputs": [],
   "source": [
    "# Need this for gen_random_uuid()\n",
    "cur.execute(\"CREATE EXTENSION IF NOT EXISTS pgcrypto;\")\n",
    "conn.commit()"
   ]
  },
  {
   "cell_type": "code",
   "execution_count": 48,
   "id": "b7699d1f",
   "metadata": {},
   "outputs": [],
   "source": [
    "insert_query = \"\"\"\n",
    "INSERT INTO public.cats (\n",
    "  cat_number,\n",
    "  lock_time,\n",
    "  block_height,\n",
    "  minted_at,\n",
    "  minted_by,\n",
    "  feerate,\n",
    "  tx_hash,\n",
    "  tx_input,\n",
    "  tx_input_count,\n",
    "  tx_output,\n",
    "  tx_output_count,\n",
    "  tx_fee,\n",
    "  tx_virtual_size\n",
    ") VALUES(%s, %s, %s, %s, %s, %s, %s, %s, %s, %s, %s, %s, %s);\n",
    "\"\"\""
   ]
  },
  {
   "cell_type": "code",
   "execution_count": 64,
   "id": "45f9787a",
   "metadata": {},
   "outputs": [],
   "source": [
    "for row in res[1:]:\n",
    "    # TODO: Handle cases with OP_RETURN as first output, use tx_output[1][1][0] as minter for them\n",
    "\n",
    "    # Construct INSERT for the normal case\n",
    "    cur.execute(insert_query, (\n",
    "        row[\"cat_number\"],\n",
    "        row[\"lock_time\"],\n",
    "        row[\"block_height\"],\n",
    "        row[\"block_time\"],\n",
    "        row[\"output\"][0][1][0],\n",
    "        100000000 * row[\"fee\"] / row[\"virtual_size\"],\n",
    "        row[\"id\"][2:],\n",
    "        json.dumps(row[\"input\"]),\n",
    "        row[\"input_count\"],\n",
    "        json.dumps(row[\"output\"]),\n",
    "        row[\"output_count\"],\n",
    "        row[\"fee\"],\n",
    "        row[\"virtual_size\"],\n",
    "    ))\n",
    "conn.commit()"
   ]
  },
  {
   "cell_type": "code",
   "execution_count": 47,
   "id": "b9bd9c48",
   "metadata": {},
   "outputs": [
    {
     "data": {
      "text/plain": [
       "{'block_height': 824205,\n",
       " 'block_time': '2024-01-03 21:04:46.000 UTC',\n",
       " 'cat_number': 0,\n",
       " 'fee': 0.00040834,\n",
       " 'id': '0x98316dcb21daaa221865208fe0323616ee6dd84e6020b78bc6908e914ac03892',\n",
       " 'input': [[0.00634426,\n",
       "   None,\n",
       "   824183,\n",
       "   '0x97b4ecfe7c015aa35f3a2e0299be09a0dc3d02c6dbcff31a23c80f806a19af9a',\n",
       "   11,\n",
       "   ['3PhEFGZSE4JhMa8JPoX5rf9gUZnsDwCcJt',\n",
       "    'OP_HASH160 f15d0dc87fc1cd6d2395870a7c6a6788854c03ec OP_EQUAL',\n",
       "    'addr(3PhEFGZSE4JhMa8JPoX5rf9gUZnsDwCcJt)#m2rmu9t3',\n",
       "    '0xa914f15d0dc87fc1cd6d2395870a7c6a6788854c03ec87',\n",
       "    'scripthash'],\n",
       "   ['0014d6128ca4880dc012f901129ee3491c2d1c343b26',\n",
       "    '0x160014d6128ca4880dc012f901129ee3491c2d1c343b26'],\n",
       "   4294967293,\n",
       "   ['0x3044022065051b1b6479dd36eb921894b3173a0bc3768d75bfadbd473839147580f75d8302201d0a1952da156f37f05e3b2898c52fdd18fd133a47b2d4624098510597626a7501',\n",
       "    '0x029ad68868c3175c8e7d62e831d5dc3830837352f5f3be8bd3e1a997c78e4cbd70']]],\n",
       " 'input_count': 1,\n",
       " 'lock_time': 21,\n",
       " 'output': [[0,\n",
       "   ['bc1p85ra9kv6a48yvk4mq4hx08wxk6t32tdjw9ylahergexkymsc3uwsdrx6sh',\n",
       "    '1 3d07d2d99aed4e465abb056e679dc6b697152db27149fedf23464d626e188f1d',\n",
       "    'rawtr(3d07d2d99aed4e465abb056e679dc6b697152db27149fedf23464d626e188f1d)#lwghjjvj',\n",
       "    '0x51203d07d2d99aed4e465abb056e679dc6b697152db27149fedf23464d626e188f1d',\n",
       "    'witness_v1_taproot'],\n",
       "   5.46e-06],\n",
       "  [1,\n",
       "   ['3DPC3AqsW6eRS8J3bfwL3iS7zBSPyBYYEz',\n",
       "    'OP_HASH160 8042770d5c6df6139944e63a368228131f117c1a OP_EQUAL',\n",
       "    'addr(3DPC3AqsW6eRS8J3bfwL3iS7zBSPyBYYEz)#w4tm8uea',\n",
       "    '0xa9148042770d5c6df6139944e63a368228131f117c1a87',\n",
       "    'scripthash'],\n",
       "   0.00593046]],\n",
       " 'output_count': 2,\n",
       " 'virtual_size': 177}"
      ]
     },
     "execution_count": 47,
     "metadata": {},
     "output_type": "execute_result"
    }
   ],
   "source": [
    "res[0]"
   ]
  },
  {
   "cell_type": "code",
   "execution_count": 52,
   "id": "36b4a365",
   "metadata": {},
   "outputs": [
    {
     "data": {
      "text/plain": [
       "230.70056497175142"
      ]
     },
     "execution_count": 52,
     "metadata": {},
     "output_type": "execute_result"
    }
   ],
   "source": [
    "100000000 * res[0][\"fee\"] / res[0][\"virtual_size\"]"
   ]
  },
  {
   "cell_type": "code",
   "execution_count": 2,
   "id": "976e1716",
   "metadata": {},
   "outputs": [
    {
     "data": {
      "text/plain": [
       "'98316dcb21daaa221865208fe0323616ee6dd84e6020b78bc6908e914ac03892'"
      ]
     },
     "execution_count": 2,
     "metadata": {},
     "output_type": "execute_result"
    }
   ],
   "source": [
    "\"0x98316dcb21daaa221865208fe0323616ee6dd84e6020b78bc6908e914ac03892\"[2:]"
   ]
  },
  {
   "cell_type": "code",
   "execution_count": null,
   "id": "2bfb6c0c",
   "metadata": {},
   "outputs": [],
   "source": []
  }
 ],
 "metadata": {
  "kernelspec": {
   "display_name": "cat21-backend",
   "language": "python",
   "name": "cat21-backend"
  },
  "language_info": {
   "codemirror_mode": {
    "name": "ipython",
    "version": 3
   },
   "file_extension": ".py",
   "mimetype": "text/x-python",
   "name": "python",
   "nbconvert_exporter": "python",
   "pygments_lexer": "ipython3",
   "version": "3.11.6"
  }
 },
 "nbformat": 4,
 "nbformat_minor": 5
}
