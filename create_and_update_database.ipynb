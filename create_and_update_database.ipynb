{
 "cells": [
  {
   "cell_type": "code",
   "execution_count": 27,
   "id": "4f80893d",
   "metadata": {},
   "outputs": [
    {
     "name": "stdout",
     "output_type": "stream",
     "text": [
      "Current database server time: 2024-09-05 15:14 UTC\n"
     ]
    }
   ],
   "source": [
    "import os\n",
    "import json\n",
    "import psycopg2\n",
    "\n",
    "from dotenv import load_dotenv\n",
    "from urllib.parse import quote_plus\n",
    "from dune_client.client import DuneClient\n",
    "\n",
    "load_dotenv()\n",
    "dune = DuneClient.from_env()\n",
    "\n",
    "# Define the additional option with URL encoding\n",
    "encoded_option = quote_plus(f\"endpoint={os.getenv('DATABASE_ENDPOINT')}\")\n",
    "\n",
    "# Connect using psycopg2 with connection string\n",
    "connection_string = f\"postgresql://{os.getenv('DATABASE_USER')}:{os.getenv('DATABASE_PASSWORD')}@{os.getenv('DATABASE_HOST')}:{os.getenv('DATABASE_PORT')}/{os.getenv('DATABASE_NAME')}?options={encoded_option}\"\n",
    "conn = psycopg2.connect(connection_string)\n",
    "cur = conn.cursor()\n",
    "\n",
    "# Sample database operation: fetching the current date and time from the server\n",
    "cur.execute(\"SELECT NOW();\")\n",
    "current_time = cur.fetchone()\n",
    "print(f\"Current database server time: {current_time[0].strftime('%Y-%m-%d %H:%M')} UTC\")"
   ]
  },
  {
   "cell_type": "code",
   "execution_count": 2,
   "id": "3a6e8ee3",
   "metadata": {},
   "outputs": [
    {
     "name": "stdout",
     "output_type": "stream",
     "text": [
      "Database is up to date up until cat 62719\n"
     ]
    }
   ],
   "source": [
    "# Get most recent cat in database\n",
    "cur.execute(\"\"\"SELECT cat_number FROM public.cats ORDER BY cat_number DESC LIMIT 1\"\"\")\n",
    "most_recent_cat = cur.fetchall()[0][0]\n",
    "print(f\"Database is up to date up until cat {most_recent_cat}\")"
   ]
  },
  {
   "cell_type": "code",
   "execution_count": 3,
   "id": "7a6ed4fa",
   "metadata": {},
   "outputs": [],
   "source": [
    "# This does NOT execute the query, only fetches most recent cached result\n",
    "query_result = dune.get_latest_result(3837577)"
   ]
  },
  {
   "cell_type": "code",
   "execution_count": 4,
   "id": "1c8a837c",
   "metadata": {},
   "outputs": [],
   "source": [
    "res = query_result.get_rows()"
   ]
  },
  {
   "cell_type": "code",
   "execution_count": 5,
   "id": "949e6c64",
   "metadata": {},
   "outputs": [
    {
     "data": {
      "text/plain": [
       "1000"
      ]
     },
     "execution_count": 5,
     "metadata": {},
     "output_type": "execute_result"
    }
   ],
   "source": [
    "len(res)"
   ]
  },
  {
   "cell_type": "code",
   "execution_count": null,
   "id": "f2accb9e",
   "metadata": {},
   "outputs": [],
   "source": [
    "res[0]"
   ]
  },
  {
   "cell_type": "code",
   "execution_count": 7,
   "id": "b7699d1f",
   "metadata": {},
   "outputs": [],
   "source": [
    "insert_query = \"\"\"\n",
    "INSERT INTO public.cats (\n",
    "  cat_number,\n",
    "  lock_time,\n",
    "  block_height,\n",
    "  minted_at,\n",
    "  minted_by,\n",
    "  feerate,\n",
    "  tx_hash,\n",
    "  tx_input,\n",
    "  tx_input_count,\n",
    "  tx_output,\n",
    "  tx_output_count,\n",
    "  tx_fee,\n",
    "  tx_virtual_size\n",
    ") VALUES(%s, %s, %s, %s, %s, %s, %s, %s, %s, %s, %s, %s, %s);\n",
    "\"\"\""
   ]
  },
  {
   "cell_type": "code",
   "execution_count": 8,
   "id": "45f9787a",
   "metadata": {},
   "outputs": [],
   "source": [
    "for row in res:\n",
    "    # TODO: Handle cases with OP_RETURN as first output, use tx_output[1][1][0] as minter for them\n",
    "\n",
    "    if row[\"cat_number\"] > most_recent_cat:\n",
    "        # Construct INSERT for the normal case\n",
    "        cur.execute(insert_query, (\n",
    "            row[\"cat_number\"],\n",
    "            row[\"lock_time\"],\n",
    "            row[\"block_height\"],\n",
    "            row[\"block_time\"],\n",
    "            row[\"output\"][0][1][0],\n",
    "            row[\"feeRate\"],\n",
    "            row[\"id\"][2:],\n",
    "            json.dumps(row[\"input\"]),\n",
    "            len(row[\"input\"]),\n",
    "            json.dumps(row[\"output\"]),\n",
    "            len(row[\"output\"]),\n",
    "            row[\"fee\"],\n",
    "            row[\"virtual_size\"],\n",
    "        ))\n",
    "conn.commit()"
   ]
  },
  {
   "cell_type": "code",
   "execution_count": null,
   "id": "15629d59",
   "metadata": {},
   "outputs": [],
   "source": []
  },
  {
   "cell_type": "markdown",
   "id": "3ec15a36-2703-4c27-b24e-e6a46997e9bd",
   "metadata": {},
   "source": [
    "## Get block_hash and update table"
   ]
  },
  {
   "cell_type": "code",
   "execution_count": 9,
   "id": "2cd5e87e",
   "metadata": {},
   "outputs": [],
   "source": [
    "# block_height -> block_hash\n",
    "query_result = dune.get_latest_result(3837893)"
   ]
  },
  {
   "cell_type": "code",
   "execution_count": 10,
   "id": "f9690146-569f-4eaf-a197-4521306ff151",
   "metadata": {},
   "outputs": [],
   "source": [
    "res = query_result.get_rows()"
   ]
  },
  {
   "cell_type": "code",
   "execution_count": 11,
   "id": "036b9bd3-037b-4996-ba00-c33751678b1e",
   "metadata": {},
   "outputs": [
    {
     "data": {
      "text/plain": [
       "1805"
      ]
     },
     "execution_count": 11,
     "metadata": {},
     "output_type": "execute_result"
    }
   ],
   "source": [
    "len(res)"
   ]
  },
  {
   "cell_type": "code",
   "execution_count": 12,
   "id": "5b7aa6b3-6a66-4bd5-9f4e-936717c5f3b4",
   "metadata": {},
   "outputs": [
    {
     "data": {
      "text/plain": [
       "{'block_hash': '0x000000000000000000018e3ea447b11385e3330348010e1b2418d0d8ae4e0ac7',\n",
       " 'block_height': 824205}"
      ]
     },
     "execution_count": 12,
     "metadata": {},
     "output_type": "execute_result"
    }
   ],
   "source": [
    "res[0]"
   ]
  },
  {
   "cell_type": "code",
   "execution_count": 25,
   "id": "cebbbf20-3cb2-482f-8a3d-e264b111f969",
   "metadata": {},
   "outputs": [
    {
     "name": "stdout",
     "output_type": "stream",
     "text": [
      "Database is up to date up until block 859854\n"
     ]
    }
   ],
   "source": [
    "# Get most recent row with block_hash in database\n",
    "cur.execute(\"\"\"SELECT block_height FROM public.cats WHERE block_hash != '' ORDER BY cat_number DESC LIMIT 1\"\"\")\n",
    "most_recent_block = cur.fetchall()[0][0]\n",
    "print(f\"Database is up to date up until block {most_recent_block}\")"
   ]
  },
  {
   "cell_type": "code",
   "execution_count": 28,
   "id": "536472cc-9d9f-4e6a-91ad-468ed37292bc",
   "metadata": {},
   "outputs": [],
   "source": [
    "for row in res:\n",
    "    block_hash_without_prefix = row[\"block_hash\"][2:]\n",
    "    #if row[\"block_height\"] <= most_recent_block:\n",
    "    #    continue\n",
    "    cur.execute(f\"UPDATE public.cats SET block_hash='{block_hash_without_prefix}' WHERE block_height={row['block_height']}\")\n",
    "conn.commit()"
   ]
  },
  {
   "cell_type": "code",
   "execution_count": null,
   "id": "ac375f47-e533-41c2-86ce-ef095d2a246a",
   "metadata": {},
   "outputs": [],
   "source": []
  },
  {
   "cell_type": "code",
   "execution_count": null,
   "id": "77f0e853-3d3b-4517-94df-b4d5efa93158",
   "metadata": {},
   "outputs": [],
   "source": []
  },
  {
   "cell_type": "code",
   "execution_count": null,
   "id": "c094c92b-46fe-416b-a1cd-05f5586e893f",
   "metadata": {},
   "outputs": [],
   "source": []
  },
  {
   "cell_type": "markdown",
   "id": "0d3e041a",
   "metadata": {},
   "source": [
    "# Create table definition\n",
    "\n",
    "Only included here for reference, not necessary to run again unless bootstrapping a new database from scratch."
   ]
  },
  {
   "cell_type": "raw",
   "id": "ba178909",
   "metadata": {},
   "source": [
    "# Create table\n",
    "cur.execute(\"DROP TABLE cats\")\n",
    "cur.execute(\"\"\"CREATE TABLE IF NOT EXISTS cats (\n",
    "  id UUID PRIMARY KEY DEFAULT gen_random_uuid(),\n",
    "  cat_number INT,\n",
    "  lock_time INT,\n",
    "  block_height INT,\n",
    "  minted_at TIMESTAMP WITH TIME ZONE,\n",
    "  minted_by VARCHAR(256),\n",
    "  feeRate FLOAT,\n",
    "  tx_hash VARCHAR(256),\n",
    "  tx_fee FLOAT,\n",
    "  tx_virtual_size INT,\n",
    "  tx_input_count INT,\n",
    "  tx_input JSONB,\n",
    "  tx_output_count INT,\n",
    "  tx_output JSONB\n",
    ");\n",
    "\"\"\")\n",
    "conn.commit()"
   ]
  },
  {
   "cell_type": "raw",
   "id": "8a50f8b1",
   "metadata": {},
   "source": [
    "# Need this for gen_random_uuid()\n",
    "cur.execute(\"CREATE EXTENSION IF NOT EXISTS pgcrypto;\")\n",
    "conn.commit()"
   ]
  },
  {
   "cell_type": "code",
   "execution_count": null,
   "id": "02508204",
   "metadata": {},
   "outputs": [],
   "source": []
  }
 ],
 "metadata": {
  "kernelspec": {
   "display_name": "cat21-backend",
   "language": "python",
   "name": "cat21-backend"
  },
  "language_info": {
   "codemirror_mode": {
    "name": "ipython",
    "version": 3
   },
   "file_extension": ".py",
   "mimetype": "text/x-python",
   "name": "python",
   "nbconvert_exporter": "python",
   "pygments_lexer": "ipython3",
   "version": "3.12.4"
  }
 },
 "nbformat": 4,
 "nbformat_minor": 5
}
